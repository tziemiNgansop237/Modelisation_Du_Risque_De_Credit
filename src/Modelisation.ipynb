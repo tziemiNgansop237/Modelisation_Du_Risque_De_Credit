{
 "cells": [
  {
   "cell_type": "markdown",
   "metadata": {},
   "source": [
    "<br/>\n",
    "<h1 style=\"font-family: 'Georgia', serif; text-align: center; font-size: 30px; color:rgb(52, 152, 219); text-shadow: 2px 2px 5px rgba(0, 0, 0, 0.3)\">Présentation du problème\n",
    "</h1>\n",
    "<br/>"
   ]
  },
  {
   "cell_type": "markdown",
   "metadata": {},
   "source": [
    "<p>\n",
    "Lorsqu'une banque prete de l'argent à une personne, elle prend le risque que cette dernière ne rembourse pas l'intégralité dans les délais convenus. Ce risque s'appelle risque de crédit. Ainsi, avant d'octroyer du crédit, la banque vérifie si la personne demandant le pret sera capable de rembourser. Cette analyse est effectuée manuellement par plusieurs banques, ce qui est couteux en ressources financières. \n",
    "</p>\n",
    "<p>\n",
    "Notre objectif est d'automatiser cette tache en prédisant une variable binaire(Classification), qui vaudra 1 en cas de défaut de paiement et 0 en cas de non-défaut. \n",
    "</p>"
   ]
  },
  {
   "cell_type": "markdown",
   "metadata": {},
   "source": [
    "<h1 style=\"font-family: 'Georgia', serif; text-align: left; font-size: 30px; text-shadow: 2px 2px 5px rgba(0, 0, 0, 0.3)\">Librairies\n",
    "</h1>"
   ]
  },
  {
   "cell_type": "code",
   "execution_count": null,
   "metadata": {
    "vscode": {
     "languageId": "plaintext"
    }
   },
   "outputs": [],
   "source": []
  }
 ],
 "metadata": {
  "language_info": {
   "name": "python"
  }
 },
 "nbformat": 4,
 "nbformat_minor": 2
}
