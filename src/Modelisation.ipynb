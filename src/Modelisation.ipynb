{
 "cells": [
  {
   "cell_type": "markdown",
   "metadata": {},
   "source": [
    "<br/>\n",
    "<h1 style=\"font-family: 'Georgia', serif; text-align: center; font-size: 30px; color:rgb(52, 152, 219); text-shadow: 2px 2px 5px rgba(0, 0, 0, 0.3)\">Modélisation\n",
    "</h1>\n",
    "<br/>"
   ]
  },
  {
   "cell_type": "markdown",
   "metadata": {},
   "source": [
    "## Librairies"
   ]
  },
  {
   "cell_type": "code",
   "execution_count": null,
   "metadata": {
    "vscode": {
     "languageId": "plaintext"
    }
   },
   "outputs": [],
   "source": [
    "import pandas as pd\n",
    "import numpy as np\n",
    "import matplotlib.pyplot as plt\n",
    "import seaborn as sns\n",
    "from sklearn.model_selection import train_test_split\n",
    "from sklearn.ensemble import RandomForestClassifier\n",
    "from sklearn.linear_model import LogisticRegression\n",
    "from sklearn.metrics import classification_report\n",
    "from sklearn.model_selection import RandomizedSearchCV"
   ]
  },
  {
   "cell_type": "markdown",
   "metadata": {},
   "source": [
    "<br/>\n",
    "<h1 style=\"font-family: 'Georgia', serif; text-align: left; font-size: 30px; color:rgb(226, 93, 31)\">\n",
    "<ul style=\"list-style-type: square;\">\n",
    "<li>\n",
    "Evaluation des performances du Modèle\n",
    "</li>\n",
    "</ul> \n",
    "</h1>"
   ]
  },
  {
   "cell_type": "markdown",
   "metadata": {},
   "source": [
    "<br/>\n",
    "<h1 style=\"font-family: 'Georgia', serif; text-align: left; font-size: 22px; color:rgb(226, 93, 31)\">\n",
    "<ul style=\"list-style-type: circle;\">\n",
    "<li>\n",
    "Determination de l'importance des prédicteurs\n",
    "</li>\n",
    "</ul> \n",
    "</h1>"
   ]
  },
  {
   "cell_type": "markdown",
   "metadata": {},
   "source": [
    "<br/>\n",
    "<h1 style=\"font-family: 'Georgia', serif; text-align: left; font-size: 22px; color:rgb(226, 93, 31)\">\n",
    "<ul style=\"list-style-type: circle;\">\n",
    "<li>\n",
    "(re)construction du modèle de Random Forrest\n",
    "</li>\n",
    "</ul> \n",
    "</h1>"
   ]
  },
  {
   "cell_type": "markdown",
   "metadata": {},
   "source": [
    "<br/>\n",
    "<h1 style=\"font-family: 'Georgia', serif; text-align: left; font-size: 22px; color:rgb(226, 93, 31)\">\n",
    "<ul style=\"list-style-type: circle;\">\n",
    "<li>\n",
    "Méthode de sous-échantillonnage\n",
    "</li>\n",
    "</ul> \n",
    "</h1>"
   ]
  },
  {
   "cell_type": "markdown",
   "metadata": {},
   "source": [
    "<br/>\n",
    "<h1 style=\"font-family: 'Georgia', serif; text-align: left; font-size: 30px; color:rgb(226, 93, 31)\">\n",
    "<ul style=\"list-style-type: square;\">\n",
    "<li>\n",
    "<u>\n",
    "CONCLUSION\n",
    "</u>\n",
    "</li>\n",
    "</ul> \n",
    "</h1>"
   ]
  }
 ],
 "metadata": {
  "language_info": {
   "name": "python"
  }
 },
 "nbformat": 4,
 "nbformat_minor": 2
}
